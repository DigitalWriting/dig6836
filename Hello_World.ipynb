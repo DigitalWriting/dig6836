{
  "cells": [
    {
      "cell_type": "markdown",
      "metadata": {
        "colab_type": "text",
        "id": "view-in-github"
      },
      "source": [
        "<a href=\"https://colab.research.google.com/github/rutang5/dig6836/blob/main/Hello_World.ipynb\" target=\"_parent\"><img src=\"https://colab.research.google.com/assets/colab-badge.svg\" alt=\"Open In Colab\"/></a>"
      ]
    },
    {
      "cell_type": "code",
      "execution_count": 16,
      "metadata": {
        "colab": {
          "base_uri": "https://localhost:8080/"
        },
        "id": "yxnCFmS_S6tg",
        "outputId": "7561b508-f7f8-4026-9ac7-7f6ae547b501"
      },
      "outputs": [
        {
          "name": "stdout",
          "output_type": "stream",
          "text": [
            "\u001b[31m Hello, World!\n",
            "\u001b[32m What is your name? Rudy\n",
            "What is your age? 45\n",
            "Hello, Rudy! In 25 years you will be 70 years old!\n"
          ]
        }
      ],
      "source": [
        "#!pip install colored\n",
        "#!pip install colorama\n",
        "import colored, colorama\n",
        "from colorama import Fore, Back, Style\n",
        "\n",
        "print(Fore.RED, \"Hello, World!\")\n",
        "print(Fore.GREEN, \"What is your name? \", end='')\n",
        "name = input()\n",
        "age = input(\"What is your age? \")\n",
        "ageNum = int(age)\n",
        "oldAge = ageNum + 25\n",
        "age = str(oldAge)\n",
        "print(\"Hello, \"+name+\"! In 25 years you will be \"+ age + \" years old!\")\n",
        "\n"
      ]
    }
  ],
  "metadata": {
    "colab": {
      "authorship_tag": "ABX9TyN5WWwegVkYCf0MQBtijJc6",
      "include_colab_link": true,
      "provenance": []
    },
    "kernelspec": {
      "display_name": "Python 3",
      "name": "python3"
    },
    "language_info": {
      "name": "python"
    }
  },
  "nbformat": 4,
  "nbformat_minor": 0
}
